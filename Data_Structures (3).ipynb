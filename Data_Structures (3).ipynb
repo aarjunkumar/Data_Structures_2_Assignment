{
  "nbformat": 4,
  "nbformat_minor": 0,
  "metadata": {
    "colab": {
      "provenance": []
    },
    "kernelspec": {
      "name": "python3",
      "display_name": "Python 3"
    },
    "language_info": {
      "name": "python"
    }
  },
  "cells": [
    {
      "cell_type": "markdown",
      "source": [
        "Q1. Write a code to reverse a string."
      ],
      "metadata": {
        "id": "CH7eACNiPVCm"
      }
    },
    {
      "cell_type": "code",
      "source": [
        "s=str(input())\n",
        "s=s[::-1]\n",
        "print(s)"
      ],
      "metadata": {
        "colab": {
          "base_uri": "https://localhost:8080/"
        },
        "id": "C_Kcm0psPeTP",
        "outputId": "1f6366ac-04d7-4da1-868b-787152665934"
      },
      "execution_count": null,
      "outputs": [
        {
          "output_type": "stream",
          "name": "stdout",
          "text": [
            "My name is Arjun Kumar\n",
            "ramuK nujrA si eman yM\n"
          ]
        }
      ]
    },
    {
      "cell_type": "markdown",
      "source": [
        "Q2. Write code to count the number of vowels in string"
      ],
      "metadata": {
        "id": "XgPzOx0zK2jJ"
      }
    },
    {
      "cell_type": "code",
      "source": [
        "s=str(input())\n",
        "s=s.lower()\n",
        "count=0\n",
        "for i in s:\n",
        "  if i=='a' or i=='e' or i=='i' or i=='o' or i=='u':\n",
        "    count+=1\n",
        "\n",
        "print(count)"
      ],
      "metadata": {
        "colab": {
          "base_uri": "https://localhost:8080/"
        },
        "id": "KvL-Z6AXLKCQ",
        "outputId": "4c128e84-aff6-4f52-bc55-2c432e89dfe1"
      },
      "execution_count": null,
      "outputs": [
        {
          "output_type": "stream",
          "name": "stdout",
          "text": [
            "I AM STUDYING DATA science\n",
            "9\n"
          ]
        }
      ]
    },
    {
      "cell_type": "markdown",
      "source": [
        "Q3. Write a code to check if a given string is a palindrome or not."
      ],
      "metadata": {
        "id": "PTPCTE6DMLgP"
      }
    },
    {
      "cell_type": "code",
      "source": [
        "s=str(input())\n",
        "x=s[::-1]\n",
        "if s==x:\n",
        "    print(\"Palindrome\")\n",
        "else:\n",
        "    print(\"Not a Palindrome\")"
      ],
      "metadata": {
        "colab": {
          "base_uri": "https://localhost:8080/"
        },
        "id": "pEqEj0nRMcNV",
        "outputId": "5fadb49c-3233-4629-b3d9-72e57428abd2"
      },
      "execution_count": null,
      "outputs": [
        {
          "output_type": "stream",
          "name": "stdout",
          "text": [
            "aagggaa\n",
            "Palindrome\n"
          ]
        }
      ]
    },
    {
      "cell_type": "markdown",
      "source": [
        "Q4.  Write a code to check if two given strings are anagrams of each other"
      ],
      "metadata": {
        "id": "w3kQFWANPM2h"
      }
    },
    {
      "cell_type": "code",
      "source": [
        "s=str(input())\n",
        "x=str(input())\n",
        "\n",
        "if sorted(s)==sorted(x):\n",
        "    print(\"Given strings are Anagrams of each other\")\n",
        "else:\n",
        "    print(\"Not an anagram\")"
      ],
      "metadata": {
        "colab": {
          "base_uri": "https://localhost:8080/"
        },
        "id": "ZfIkWGYqQQBW",
        "outputId": "4cf1a223-743e-45a8-8ea3-5ac5ff8a271d"
      },
      "execution_count": null,
      "outputs": [
        {
          "output_type": "stream",
          "name": "stdout",
          "text": [
            "bear\n",
            "bare\n",
            "Given strings are Anagrams of each other\n"
          ]
        }
      ]
    },
    {
      "cell_type": "markdown",
      "source": [
        "Q5.  Write a code to find all occurrences of a given substring within another string"
      ],
      "metadata": {
        "id": "-UaSspq9QPbK"
      }
    },
    {
      "cell_type": "code",
      "source": [
        "string = str(input())\n",
        "substring = str(input())\n",
        "\n",
        "start=0\n",
        "occ=[]\n",
        "\n",
        "while True:\n",
        "    start=string.find(substring,start)\n",
        "    if start==-1:\n",
        "        break\n",
        "    occ.append(start)\n",
        "    start+=1\n",
        "\n",
        "print(occ)"
      ],
      "metadata": {
        "colab": {
          "base_uri": "https://localhost:8080/"
        },
        "id": "Bm2icLOsUqjn",
        "outputId": "e9a1d03c-2b36-473c-a762-d61176365128"
      },
      "execution_count": null,
      "outputs": [
        {
          "output_type": "stream",
          "name": "stdout",
          "text": [
            "This is a testest string. This test is for testing.\n",
            "test\n",
            "[10, 13, 31, 43]\n"
          ]
        }
      ]
    },
    {
      "cell_type": "markdown",
      "source": [
        "Q6. Write a code to perform basic string compression using the counts of repeated characters"
      ],
      "metadata": {
        "id": "JPr5Ag-fU69A"
      }
    },
    {
      "cell_type": "code",
      "source": [
        "string=str(input())\n",
        "r=\"\"\n",
        "\n",
        "count=1\n",
        "for i in range(1,len(string)):\n",
        "    if string[i]==string[i-1]:\n",
        "        count+=1\n",
        "    else:\n",
        "        r+=string[i-1]+str(count)\n",
        "        count=1\n",
        "r+=string[i-1]+str(count)\n",
        "print(r)"
      ],
      "metadata": {
        "colab": {
          "base_uri": "https://localhost:8080/"
        },
        "id": "HlFIweHZVEHr",
        "outputId": "8d617866-c59d-4db0-9908-ec8c59222d94"
      },
      "execution_count": null,
      "outputs": [
        {
          "output_type": "stream",
          "name": "stdout",
          "text": [
            "aaabbccccaaa\n",
            "a3b2c4a3\n"
          ]
        }
      ]
    },
    {
      "cell_type": "markdown",
      "source": [
        "Q7. Write a code to determine if a string has all unique characters."
      ],
      "metadata": {
        "id": "uDxakLDwb6bW"
      }
    },
    {
      "cell_type": "code",
      "source": [
        "s=str(input())\n",
        "x=set(s)\n",
        "\n",
        "if len(s)==len(x):\n",
        "  print(\"String has all unique characters\")\n",
        "else:\n",
        "  print(\"Not all characters are unique\")"
      ],
      "metadata": {
        "colab": {
          "base_uri": "https://localhost:8080/"
        },
        "id": "dJkNZVf7cCB8",
        "outputId": "0ec55c84-761f-4973-8df8-e096c958a5d3"
      },
      "execution_count": null,
      "outputs": [
        {
          "output_type": "stream",
          "name": "stdout",
          "text": [
            "abcdefghijkl\n",
            "String has all unique characters\n"
          ]
        }
      ]
    },
    {
      "cell_type": "markdown",
      "source": [
        "Q8.  Write a code to convert a given string to uppercase or lowercase"
      ],
      "metadata": {
        "id": "ETaTv9tTcgbJ"
      }
    },
    {
      "cell_type": "code",
      "source": [
        "s=str(input())\n",
        "\n",
        "# Converting string to lowercase\n",
        "s=s.lower()\n",
        "print(\"Lowercase:\",s)\n",
        "\n",
        "# converting string to uppercase\n",
        "s=s.upper()\n",
        "print(\"Uppercase:\",s)"
      ],
      "metadata": {
        "colab": {
          "base_uri": "https://localhost:8080/"
        },
        "id": "IrMbRlPqcm92",
        "outputId": "0e4c4bbe-7878-46cf-f565-b12283dd2044"
      },
      "execution_count": null,
      "outputs": [
        {
          "output_type": "stream",
          "name": "stdout",
          "text": [
            "My name is Arjun Kumar\n",
            "Lowercase: my name is arjun kumar\n",
            "Uppercase: MY NAME IS ARJUN KUMAR\n"
          ]
        }
      ]
    },
    {
      "cell_type": "markdown",
      "source": [
        "Q9.  Write a code to count the number of words in a string"
      ],
      "metadata": {
        "id": "9U4_OYOFdPtk"
      }
    },
    {
      "cell_type": "code",
      "source": [
        "s=str(input())\n",
        "x=s.split()\n",
        "print(len(x))"
      ],
      "metadata": {
        "id": "3gXWjbT7c-wx",
        "colab": {
          "base_uri": "https://localhost:8080/"
        },
        "outputId": "2ced2fba-3a0c-4184-9ada-a6757477df36"
      },
      "execution_count": null,
      "outputs": [
        {
          "output_type": "stream",
          "name": "stdout",
          "text": [
            "This is a sample string to count words.\n",
            "8\n"
          ]
        }
      ]
    },
    {
      "cell_type": "markdown",
      "source": [
        "Q10. Write a code to concatenate two strings without using the + operator."
      ],
      "metadata": {
        "id": "4W0QI8dKIYS2"
      }
    },
    {
      "cell_type": "code",
      "source": [
        "s=str(input())\n",
        "x=str(input())\n",
        "\n",
        "r=(\" \").join([s,x])\n",
        "print(r)"
      ],
      "metadata": {
        "id": "7PZw2Ko5IlXr",
        "colab": {
          "base_uri": "https://localhost:8080/"
        },
        "outputId": "85a8f684-2c76-4d1b-e25d-646eafb56e97"
      },
      "execution_count": null,
      "outputs": [
        {
          "output_type": "stream",
          "name": "stdout",
          "text": [
            "Hello\n",
            "World\n",
            "Hello World\n"
          ]
        }
      ]
    },
    {
      "cell_type": "markdown",
      "source": [
        "Q11.  Write a code to remove all occurrences of a specific element from a list."
      ],
      "metadata": {
        "id": "AUXjSfo7Z6_-"
      }
    },
    {
      "cell_type": "code",
      "source": [
        "s=input(\"Enter the string\").split()\n",
        "x=str(input(\"Enter the element which you want to remove\"))\n",
        "\n",
        "c=s.count(x)\n",
        "\n",
        "for i in range(c):\n",
        "  s.remove(x)\n",
        "\n",
        "s"
      ],
      "metadata": {
        "colab": {
          "base_uri": "https://localhost:8080/"
        },
        "id": "wR96kvzAaH-U",
        "outputId": "357a1efd-3d8f-40ac-e1fc-00898ad5b44b"
      },
      "execution_count": null,
      "outputs": [
        {
          "name": "stdout",
          "output_type": "stream",
          "text": [
            "Enter the stringa b c d b b d e d b b x b x b x b b\n",
            "Enter the element which you want to removeb\n"
          ]
        },
        {
          "output_type": "execute_result",
          "data": {
            "text/plain": [
              "['a', 'c', 'd', 'd', 'e', 'd', 'x', 'x', 'x']"
            ]
          },
          "metadata": {},
          "execution_count": 3
        }
      ]
    },
    {
      "cell_type": "markdown",
      "source": [
        "Q12.  Implement a code to find the second largest number in a given list of integers"
      ],
      "metadata": {
        "id": "sWOp0p-SmQqw"
      }
    },
    {
      "cell_type": "code",
      "source": [
        "s=list(map(int, input().split()))\n",
        "s.sort()\n",
        "print(s[-2])\n",
        "s"
      ],
      "metadata": {
        "colab": {
          "base_uri": "https://localhost:8080/"
        },
        "id": "QEH6QGSMmazg",
        "outputId": "5ed3e3c0-2de6-4101-aa28-518e511b2d8b"
      },
      "execution_count": null,
      "outputs": [
        {
          "output_type": "stream",
          "name": "stdout",
          "text": [
            "1 2 67 88 24 55 12 34 90 100 94 91 98 \n",
            "98\n"
          ]
        },
        {
          "output_type": "execute_result",
          "data": {
            "text/plain": [
              "[1, 2, 12, 24, 34, 55, 67, 88, 90, 91, 94, 98, 100]"
            ]
          },
          "metadata": {},
          "execution_count": 5
        }
      ]
    },
    {
      "cell_type": "markdown",
      "source": [
        "Q13. Create a code to count the occurrences of each element in a list and return a dictionary with elements as\n",
        "keys and their counts as values"
      ],
      "metadata": {
        "id": "XY5IICwSuSFT"
      }
    },
    {
      "cell_type": "code",
      "source": [
        "l=[1,2,3,1,2,5,2,3,5,4,6,7,9,10,6,7,5,7,10]\n",
        "\n",
        "d={}\n",
        "\n",
        "for i in l:\n",
        "    if d.get(i,-1)==-1:\n",
        "        d[i]=1\n",
        "    else:\n",
        "        d[i]+=1\n",
        "\n",
        "d"
      ],
      "metadata": {
        "colab": {
          "base_uri": "https://localhost:8080/"
        },
        "id": "3mYlmhXYublr",
        "outputId": "70181096-2feb-40c5-8016-8da99d070173"
      },
      "execution_count": null,
      "outputs": [
        {
          "output_type": "execute_result",
          "data": {
            "text/plain": [
              "{1: 2, 2: 3, 3: 2, 5: 3, 4: 1, 6: 2, 7: 3, 9: 1, 10: 2}"
            ]
          },
          "metadata": {},
          "execution_count": 6
        }
      ]
    },
    {
      "cell_type": "markdown",
      "source": [
        "Q14.  Write a code to reverse a list in-place without using any built-in reverse functions"
      ],
      "metadata": {
        "id": "VyaOge6nvcbQ"
      }
    },
    {
      "cell_type": "code",
      "source": [
        "l=input().split()\n",
        "\n",
        "l=l[::-1]\n",
        "l"
      ],
      "metadata": {
        "colab": {
          "base_uri": "https://localhost:8080/"
        },
        "id": "vvEMWX2kvjhm",
        "outputId": "4ff57981-71e5-4b91-9eeb-f6d577ce7f38"
      },
      "execution_count": null,
      "outputs": [
        {
          "name": "stdout",
          "output_type": "stream",
          "text": [
            "1 2 3 4 5 6 7 8 9 10\n"
          ]
        },
        {
          "output_type": "execute_result",
          "data": {
            "text/plain": [
              "['10', '9', '8', '7', '6', '5', '4', '3', '2', '1']"
            ]
          },
          "metadata": {},
          "execution_count": 7
        }
      ]
    },
    {
      "cell_type": "markdown",
      "source": [
        "Q15. Implement a code to find and remove duplicates from a list while preserving the original order of\n",
        "elements"
      ],
      "metadata": {
        "id": "A1Vt67fwv8y2"
      }
    },
    {
      "cell_type": "code",
      "source": [
        "l=input().split()\n",
        "s=set()\n",
        "p=[]\n",
        "\n",
        "for i in l:\n",
        "  if i not in s:\n",
        "    p.append(i)\n",
        "    s.add(i)\n",
        "\n",
        "p"
      ],
      "metadata": {
        "colab": {
          "base_uri": "https://localhost:8080/"
        },
        "id": "5aH0SSlYyUpw",
        "outputId": "24388db3-5ac3-4995-c90d-6a986f3c84c8"
      },
      "execution_count": null,
      "outputs": [
        {
          "name": "stdout",
          "output_type": "stream",
          "text": [
            "1 2 3 2 4 3 5 6 \n"
          ]
        },
        {
          "output_type": "execute_result",
          "data": {
            "text/plain": [
              "['1', '2', '3', '4', '5', '6']"
            ]
          },
          "metadata": {},
          "execution_count": 8
        }
      ]
    },
    {
      "cell_type": "markdown",
      "source": [
        "Q16. Create a code to check if a given list is sorted (either in ascending or descending order) or not"
      ],
      "metadata": {
        "id": "6xfz_YY2y1jq"
      }
    },
    {
      "cell_type": "code",
      "source": [
        "l=[1,2,3,4,5,6,7,9,11]\n",
        "\n",
        "x=len(l)\n",
        "p=1\n",
        "for i in range(1,x-1):\n",
        "    if (l[i-1]>l[i]<l[i+1]) or (l[i-1]<l[i]>l[i+1]):\n",
        "        p=0\n",
        "        break\n",
        "\n",
        "if p==1:\n",
        "    print(\"Sorted\")\n",
        "else:\n",
        "    print(\"Not sorted\")"
      ],
      "metadata": {
        "id": "vfbsfRB76V__"
      },
      "execution_count": null,
      "outputs": []
    },
    {
      "cell_type": "markdown",
      "source": [
        "Q17. Write a code to merge two sorted lists into a single sorted list"
      ],
      "metadata": {
        "id": "FRwuhnroCtPV"
      }
    },
    {
      "cell_type": "code",
      "source": [
        "def merge_sorted_lists(list1, list2):\n",
        "    merged_list = []\n",
        "    i, j = 0, 0\n",
        "\n",
        "    while i < len(list1) and j < len(list2):\n",
        "        if list1[i] < list2[j]:\n",
        "            merged_list.append(list1[i])\n",
        "            i += 1\n",
        "        else:\n",
        "            merged_list.append(list2[j])\n",
        "            j += 1\n",
        "\n",
        "    while i < len(list1):\n",
        "        merged_list.append(list1[i])\n",
        "        i += 1\n",
        "\n",
        "    while j < len(list2):\n",
        "        merged_list.append(list2[j])\n",
        "        j += 1\n",
        "\n",
        "    return merged_list\n",
        "\n",
        "list1 = [1, 3, 5, 7]\n",
        "list2 = [2, 4, 6, 8]\n",
        "\n",
        "merged_list = merge_sorted_lists(list1, list2)\n",
        "print(merged_list)\n"
      ],
      "metadata": {
        "colab": {
          "base_uri": "https://localhost:8080/"
        },
        "id": "wBq3wyiFEi8l",
        "outputId": "43ff2f19-b0fc-4bca-f3a4-4d17467b2b9d"
      },
      "execution_count": 3,
      "outputs": [
        {
          "output_type": "stream",
          "name": "stdout",
          "text": [
            "[1, 2, 3, 4, 5, 6, 7, 8]\n"
          ]
        }
      ]
    },
    {
      "cell_type": "markdown",
      "source": [
        "Q18.  Implement a code to find the intersection of two given lists."
      ],
      "metadata": {
        "id": "1aCPXmm28ltd"
      }
    },
    {
      "cell_type": "code",
      "source": [
        "l1 = [15, 9, 10, 56, 23, 78, 5, 4, 9]\n",
        "l2 = [9, 4, 5, 36, 47, 26, 10, 45, 9, 87]\n",
        "\n",
        "l=[]\n",
        "for i in l1:\n",
        "    if i in l2:\n",
        "        l.append(i)\n",
        "        l2.remove(i)\n",
        "\n",
        "l"
      ],
      "metadata": {
        "colab": {
          "base_uri": "https://localhost:8080/"
        },
        "id": "e-4fhpyg8sZX",
        "outputId": "7d196131-3e85-437f-8f82-84b416af3a7b"
      },
      "execution_count": 1,
      "outputs": [
        {
          "output_type": "execute_result",
          "data": {
            "text/plain": [
              "[9, 10, 5, 4, 9]"
            ]
          },
          "metadata": {},
          "execution_count": 1
        }
      ]
    },
    {
      "cell_type": "markdown",
      "source": [
        "Q19. Create a code to find the union of two lists without duplicates"
      ],
      "metadata": {
        "id": "L8xA8JnY-QSD"
      }
    },
    {
      "cell_type": "code",
      "source": [
        "l1 = [15, 9, 10, 56, 23, 78, 5, 4, 9]\n",
        "l2 = [9, 4, 5, 36, 47, 26, 10, 45, 9, 87]\n",
        "\n",
        "s1=set(l1)\n",
        "s2=set(l2)\n",
        "\n",
        "l=list(s1 | s2)\n",
        "l"
      ],
      "metadata": {
        "colab": {
          "base_uri": "https://localhost:8080/"
        },
        "id": "isr1tXCB-POH",
        "outputId": "70791b4e-f880-4597-c5d1-93e1398feb7f"
      },
      "execution_count": null,
      "outputs": [
        {
          "output_type": "execute_result",
          "data": {
            "text/plain": [
              "[4, 5, 36, 9, 10, 45, 78, 15, 47, 87, 23, 56, 26]"
            ]
          },
          "metadata": {},
          "execution_count": 4
        }
      ]
    },
    {
      "cell_type": "markdown",
      "source": [
        "Q20. Write a code to shuffle a given list randomly without using any built-in shuffle functions"
      ],
      "metadata": {
        "id": "R0XFmpkH_QoM"
      }
    },
    {
      "cell_type": "code",
      "source": [
        "l=[1,2,3,4,5,6]\n",
        "\n",
        "x=len(l)\n",
        "temp=l[0]\n",
        "\n",
        "for i in range(x-1):\n",
        "    l[i]=l[i+1]\n",
        "\n",
        "l[x-1]=temp\n",
        "print(l)\n"
      ],
      "metadata": {
        "id": "LzrKzfbe_PfV",
        "colab": {
          "base_uri": "https://localhost:8080/"
        },
        "outputId": "061a8088-1fab-439b-f37d-5ee1e43f0395"
      },
      "execution_count": null,
      "outputs": [
        {
          "output_type": "stream",
          "name": "stdout",
          "text": [
            "[2, 3, 4, 5, 6, 1]\n"
          ]
        }
      ]
    },
    {
      "cell_type": "markdown",
      "source": [
        "Q21. Write a code that takes two tuples as input and returns a new tuple containing elements that are\n",
        "common to both input tuples"
      ],
      "metadata": {
        "id": "DlkcTdkbfp20"
      }
    },
    {
      "cell_type": "code",
      "source": [
        "t1=tuple(input().split())\n",
        "t2=tuple(input().split())\n",
        "\n",
        "t=tuple(set(t1) & set(t2))\n",
        "print(t)"
      ],
      "metadata": {
        "id": "4_bsL5R2fxXX",
        "colab": {
          "base_uri": "https://localhost:8080/"
        },
        "outputId": "70ccc52b-e9a5-43a1-e84f-a4cb1eb143cc"
      },
      "execution_count": null,
      "outputs": [
        {
          "output_type": "stream",
          "name": "stdout",
          "text": [
            "1 2 3 4 5\n",
            "3 4 5 6 7\n",
            "('4', '3', '5')\n"
          ]
        }
      ]
    },
    {
      "cell_type": "markdown",
      "source": [
        "Q22. Create a code that prompts the user to enter two sets of integers separated by commas. Then, print the\n",
        "intersection of these two sets"
      ],
      "metadata": {
        "id": "hn4_ZkzcmVew"
      }
    },
    {
      "cell_type": "code",
      "source": [
        "s1=set(map(int, input(\"Enter the integers og set1: \").split(\",\")))\n",
        "s2=set(map(int, input(\"Enter the integers og set2: \").split(\",\")))\n",
        "\n",
        "print(s1 & s2)"
      ],
      "metadata": {
        "colab": {
          "base_uri": "https://localhost:8080/"
        },
        "id": "SK-Y2NXEmmyJ",
        "outputId": "375ef813-f0e3-48d7-ddf9-5374aef3e8d7"
      },
      "execution_count": null,
      "outputs": [
        {
          "output_type": "stream",
          "name": "stdout",
          "text": [
            "Enter the integers og set1: 1,2,3,4,5\n",
            "Enter the integers og set2: 4,5,6,7,8\n",
            "{4, 5}\n"
          ]
        }
      ]
    },
    {
      "cell_type": "markdown",
      "source": [
        "Q23.  Write a code to concatenate two tuples. The function should take two tuples as input and return a new\n",
        "tuple containing elements from both input tuples."
      ],
      "metadata": {
        "id": "CcaYkyNYnZb3"
      }
    },
    {
      "cell_type": "code",
      "source": [
        "def concat_tuples(t1,t2):\n",
        "  return t1+t2\n",
        "\n",
        "t1=tuple(input(\"Enter the elements : \").split())\n",
        "t2=tuple(input(\"Enter the elements : \").split())\n",
        "\n",
        "t3=concat_tuples(t1,t2)\n",
        "print(t3)"
      ],
      "metadata": {
        "colab": {
          "base_uri": "https://localhost:8080/"
        },
        "id": "XQxV6g3Hnghd",
        "outputId": "3e451d25-18eb-4845-a66c-14f23f248734"
      },
      "execution_count": null,
      "outputs": [
        {
          "output_type": "stream",
          "name": "stdout",
          "text": [
            "Enter the elements : 1 2 3 4 5\n",
            "Enter the elements : 4 5 6 7 8 \n",
            "('1', '2', '3', '4', '5', '4', '5', '6', '7', '8')\n"
          ]
        }
      ]
    },
    {
      "cell_type": "markdown",
      "source": [
        "Q24. Develop a code that prompts the user to input two sets of strings. Then, print the elements that are\n",
        "present in the first set but not in the second set\n"
      ],
      "metadata": {
        "id": "OzIuIc1M6eec"
      }
    },
    {
      "cell_type": "code",
      "source": [
        "a=set(map(str,input().split()))\n",
        "b=set(map(str,input().split()))\n",
        "\n",
        "d=(a - b)\n",
        "print(d)"
      ],
      "metadata": {
        "id": "GOt523sl5gvx",
        "colab": {
          "base_uri": "https://localhost:8080/"
        },
        "outputId": "b8063757-7c6e-47b5-b926-d7624fe4b4fa"
      },
      "execution_count": null,
      "outputs": [
        {
          "output_type": "stream",
          "name": "stdout",
          "text": [
            "1 2 3 4 5 6 \n",
            "4 5 6 7 8 9 \n",
            "{'1', '2', '3'}\n"
          ]
        }
      ]
    },
    {
      "cell_type": "markdown",
      "source": [
        "Q25.Create a code that takes a tuple and two integers as input. The function should return a new tuple\n",
        "containing elements from the original tuple within the specified range of indices"
      ],
      "metadata": {
        "id": "h_-EarUtsplO"
      }
    },
    {
      "cell_type": "code",
      "source": [
        "def new_tuple(t,a,b):\n",
        "    return tuple(t[a:b])\n",
        "\n",
        "t=tuple(input().split())\n",
        "a=int(input())\n",
        "b=int(input())\n",
        "\n",
        "x=new_tuple(t,a,b)\n",
        "print(x)"
      ],
      "metadata": {
        "colab": {
          "base_uri": "https://localhost:8080/"
        },
        "id": "p7Zdhgk5s-Lj",
        "outputId": "054a3cb0-9ad1-448d-d7ea-943591351ad8"
      },
      "execution_count": null,
      "outputs": [
        {
          "output_type": "stream",
          "name": "stdout",
          "text": [
            "1 2 3 4 5 6 7 8 9 \n",
            "2\n",
            "6\n",
            "('3', '4', '5', '6')\n"
          ]
        }
      ]
    },
    {
      "cell_type": "markdown",
      "source": [
        "Q26.  Write a code that prompts the user to input two sets of characters. Then, print the union of these two sets"
      ],
      "metadata": {
        "id": "7K8zDlRUtUET"
      }
    },
    {
      "cell_type": "code",
      "source": [
        "s1=set(input(\"Enter the characters of set1 seperated by spaces : \").split())\n",
        "s2=set(input(\"Enter the characters of set2 seperated by spaces : \").split())\n",
        "\n",
        "# Union of two sets\n",
        "\n",
        "print(s1 | s2)"
      ],
      "metadata": {
        "colab": {
          "base_uri": "https://localhost:8080/"
        },
        "id": "tPB7iXD6soMC",
        "outputId": "8a5dfbf8-159c-4bde-b914-42dd823c7ac5"
      },
      "execution_count": null,
      "outputs": [
        {
          "output_type": "stream",
          "name": "stdout",
          "text": [
            "Enter the characters of set1 seperated by spaces : a b c d e f g h \n",
            "Enter the characters of set2 seperated by spaces : e f g h i j k l m n\n",
            "{'n', 'g', 'h', 'l', 'm', 'i', 'j', 'c', 'e', 'f', 'b', 'd', 'a', 'k'}\n"
          ]
        }
      ]
    },
    {
      "cell_type": "markdown",
      "source": [
        "Q27.  Develop a code that takes a tuple of integers as input. The function should return the maximum and\n",
        "minimum values from the tuple using tuple unpacking"
      ],
      "metadata": {
        "id": "AF6YPW37ubcT"
      }
    },
    {
      "cell_type": "code",
      "source": [
        "def tup(t):\n",
        "    # Unpackingg of tuple\n",
        "    min_val, max_val = min(t) , max(t)\n",
        "    return min_val,max_val\n",
        "\n",
        "t=tuple(map(int,input().split()))\n",
        "min_v , max_v = tup(t)\n",
        "\n",
        "print(\"Minimum value is :\", min_v)\n",
        "print(\"Maximum value is :\", max_v)"
      ],
      "metadata": {
        "colab": {
          "base_uri": "https://localhost:8080/"
        },
        "id": "0ch4IrDeuLv5",
        "outputId": "54843aa4-80e1-4ce3-efb4-2ad9e07251a9"
      },
      "execution_count": null,
      "outputs": [
        {
          "output_type": "stream",
          "name": "stdout",
          "text": [
            "55 67 12 48 -18 69 1111 -46\n",
            "Minimum value is : -46\n",
            "Maximum value is : 1111\n"
          ]
        }
      ]
    },
    {
      "cell_type": "markdown",
      "source": [
        "Q28.  Create a code that defines two sets of integers. Then, print the union, intersection, and difference of these\n",
        "two sets"
      ],
      "metadata": {
        "id": "eU4ZoRqRu1pB"
      }
    },
    {
      "cell_type": "code",
      "source": [
        "s1=set(map(int, input(\"Enter the integers of set1 seperated by spaces : \").split()))\n",
        "s2=set(map(int, input(\"Enter the integers of set2 seperated by spaces : \").split()))\n",
        "\n",
        "# Union\n",
        "print(\"Union of both the sets is:\",s1 | s2)\n",
        "\n",
        "# Intersection\n",
        "print(\"Intersection of both the sets is:\",s1 & s2)\n",
        "\n",
        "# Diffrence\n",
        "print(\"Diffrence of both the sets is:\",s1 -s2)"
      ],
      "metadata": {
        "colab": {
          "base_uri": "https://localhost:8080/"
        },
        "id": "BgLHpu5Nusyd",
        "outputId": "d0a4e311-c524-4267-8bab-e128aff3ede1"
      },
      "execution_count": null,
      "outputs": [
        {
          "output_type": "stream",
          "name": "stdout",
          "text": [
            "Enter the integers of set1 seperated by spaces : 1 2 3 4 5 6 7 \n",
            "Enter the integers of set2 seperated by spaces : 4 5 6 7 8 9 10\n",
            "Union of both the sets is: {1, 2, 3, 4, 5, 6, 7, 8, 9, 10}\n",
            "Intersection of both the sets is: {4, 5, 6, 7}\n",
            "Diffrence of both the sets is: {1, 2, 3}\n"
          ]
        }
      ]
    },
    {
      "cell_type": "markdown",
      "source": [
        "Q29.  Write a code that takes a tuple and an element as input. The function should return the count of\n",
        "occurrences of the given element in the tuple"
      ],
      "metadata": {
        "id": "XpWjqaD7v2-T"
      }
    },
    {
      "cell_type": "code",
      "source": [
        "def count_value(t,c):\n",
        "    return t.count(c)\n",
        "\n",
        "t=tuple(input().split())\n",
        "n=input()\n",
        "print(\"count is:\",count_value(t,n))"
      ],
      "metadata": {
        "colab": {
          "base_uri": "https://localhost:8080/"
        },
        "id": "zV-WitPovSA-",
        "outputId": "68db9b2a-c489-46d0-ed53-5180e8c173fe"
      },
      "execution_count": null,
      "outputs": [
        {
          "output_type": "stream",
          "name": "stdout",
          "text": [
            "1 2 3 4 5 4 6 7 4 8 4 2 4 3 4\n",
            "4\n",
            "count is: 6\n"
          ]
        }
      ]
    },
    {
      "cell_type": "markdown",
      "source": [
        "Q30. Develop a code that prompts the user to input two sets of strings. Then, print the symmetric difference of\n",
        "these two sets"
      ],
      "metadata": {
        "id": "5L-h1Ru_wasP"
      }
    },
    {
      "cell_type": "code",
      "source": [
        "s1=set(input(\"Enter the strings of set1 seperated by spaces : \").split())\n",
        "s2=set(input(\"Enter the strings of set2 seperated by spaces : \").split())\n",
        "\n",
        "print(\"Symmetric Diffrence is:\", s1 ^ s2)"
      ],
      "metadata": {
        "colab": {
          "base_uri": "https://localhost:8080/"
        },
        "id": "vvCWyTLRwKO3",
        "outputId": "cba236b3-1f27-4ce4-ad70-c910dac21083"
      },
      "execution_count": null,
      "outputs": [
        {
          "output_type": "stream",
          "name": "stdout",
          "text": [
            "Enter the strings of set1 seperated by spaces : delhi lucknow goa noida\n",
            "Enter the strings of set2 seperated by spaces : goa chennai punjab noida\n",
            "Symmetric Diffrence is: {'delhi', 'punjab', 'chennai', 'lucknow'}\n"
          ]
        }
      ]
    },
    {
      "cell_type": "markdown",
      "source": [
        "Q31. Write a code that takes a list of words as input and returns a dictionary where the keys are unique words\n",
        "and the values are the frequencies of those words in the input list"
      ],
      "metadata": {
        "id": "RcAGd77OxJfz"
      }
    },
    {
      "cell_type": "code",
      "source": [
        "def words(l):\n",
        "    dict={}\n",
        "\n",
        "    for word in l:\n",
        "        if word in dict:\n",
        "            dict[word]+=1\n",
        "        else:\n",
        "            dict[word]=1\n",
        "\n",
        "    return dict\n",
        "\n",
        "word=list(input(\"Enter the list of words:\").split())\n",
        "d=words(word)\n",
        "print(d)"
      ],
      "metadata": {
        "colab": {
          "base_uri": "https://localhost:8080/"
        },
        "id": "vIXjKbzMw4PC",
        "outputId": "d5b32d63-34fc-4db4-ebf4-38f295e43a24"
      },
      "execution_count": null,
      "outputs": [
        {
          "output_type": "stream",
          "name": "stdout",
          "text": [
            "Enter the list of words:delhi bombay goa delhi goa chennai noida bombay chennai\n",
            "{'delhi': 2, 'bombay': 2, 'goa': 2, 'chennai': 2, 'noida': 1}\n"
          ]
        }
      ]
    },
    {
      "cell_type": "markdown",
      "source": [
        "Q32. Write a code that takes two dictionaries as input and merges them into a single dictionary. If there are\n",
        "common keys, the values should be added together"
      ],
      "metadata": {
        "id": "8jdISBuPzTnZ"
      }
    },
    {
      "cell_type": "code",
      "source": [
        "def merge_dict(d1,d2):\n",
        "  d3=d1.copy()\n",
        "  for key,value in d2.items():\n",
        "    if key in d3:\n",
        "      d3[key]+=value\n",
        "    else:\n",
        "      d3[key]=value\n",
        "\n",
        "  return d3\n",
        "\n",
        "d1={'a': 5, 'b': 7, 'c': 6, 'd': 88}\n",
        "d2={'b': 27, 'c': 90, 'd': 5, 'e':2}\n",
        "\n",
        "d3=merge_dict(d1,d2)\n",
        "print(d3)"
      ],
      "metadata": {
        "id": "5bsvZVwAzHZG",
        "colab": {
          "base_uri": "https://localhost:8080/"
        },
        "outputId": "0a5ee7b1-be0f-4622-d2c3-c496c634eb7d"
      },
      "execution_count": null,
      "outputs": [
        {
          "output_type": "stream",
          "name": "stdout",
          "text": [
            "{'a': 5, 'b': 34, 'c': 96, 'd': 93, 'e': 2}\n"
          ]
        }
      ]
    },
    {
      "cell_type": "markdown",
      "source": [
        "Q33. Write a code to access a value in a nested dictionary. The function should take the dictionary and a list of\n",
        "keys as input, and return the corresponding value. If any of the keys do not exist in the dictionary, the\n",
        "function should return None"
      ],
      "metadata": {
        "id": "pOObm0hNrG1T"
      }
    },
    {
      "cell_type": "code",
      "source": [
        "def get_value(d1,keys):\n",
        "    d=d1\n",
        "\n",
        "    for key in keys:\n",
        "        if key in d:\n",
        "            d=d[key]\n",
        "        else:\n",
        "            return None\n",
        "\n",
        "    return d\n",
        "\n",
        "d1={\n",
        "    'a':{\n",
        "        'b':{\n",
        "            'c':10\n",
        "        },\n",
        "        'd':20\n",
        "    }\n",
        "}\n",
        "\n",
        "keys=['a','b','c']\n",
        "x=get_value(d1,keys)\n",
        "print(x)"
      ],
      "metadata": {
        "id": "B_OioSBWIz0g",
        "colab": {
          "base_uri": "https://localhost:8080/"
        },
        "outputId": "c3973f74-4db4-4e1f-f5cf-51942a5a3b15"
      },
      "execution_count": null,
      "outputs": [
        {
          "output_type": "stream",
          "name": "stdout",
          "text": [
            "10\n"
          ]
        }
      ]
    },
    {
      "cell_type": "markdown",
      "source": [
        "Q34. Write a code that takes a dictionary as input and returns a sorted version of it based on the values. You\n",
        "can choose whether to sort in ascending or descending order"
      ],
      "metadata": {
        "id": "7PqNebdF3W1d"
      }
    },
    {
      "cell_type": "code",
      "source": [
        "def sortByVale(dict):\n",
        "    d={key:value for key, value in sorted(dict.items(),key=lambda dict: dict[1])}\n",
        "\n",
        "    return d\n",
        "\n",
        "dict = {'apple': 1, 'mango': 2, 'orange': 3, 'pineapple': 4, 'banana': 7, 'watermelon': 8}\n",
        "d=sortByVale(dict)\n",
        "\n",
        "print(d)"
      ],
      "metadata": {
        "id": "LKOitSUOsPNn",
        "colab": {
          "base_uri": "https://localhost:8080/"
        },
        "outputId": "f4391b6e-3fd1-4fe8-f9c9-2fe57a2b7d86"
      },
      "execution_count": null,
      "outputs": [
        {
          "output_type": "stream",
          "name": "stdout",
          "text": [
            "{'apple': 1, 'mango': 2, 'orange': 3, 'pineapple': 4, 'banana': 7, 'watermelon': 8}\n"
          ]
        }
      ]
    },
    {
      "cell_type": "markdown",
      "source": [
        "Q35.  Write a code that inverts a dictionary, swapping keys and values. Ensure that the inverted dictionary\n",
        "correctly handles cases where multiple keys have the same value by storing the keys as a list in the\n",
        "inverted dictionary."
      ],
      "metadata": {
        "id": "2aXoTzgQ3hVA"
      }
    },
    {
      "cell_type": "code",
      "source": [
        "def invert_dict(dict):\n",
        "    d={}\n",
        "\n",
        "    for key,value in dict.items():\n",
        "        if value in d:\n",
        "            d[value].append(key)\n",
        "        else:\n",
        "            d[value]=[key]\n",
        "\n",
        "    return d\n",
        "\n",
        "dict={'F': 69, 'G': 67, 'H': 23, 'A': 67, 'C': 45, 'B': 23, 'E': 12}\n",
        "d=invert_dict(dict)\n",
        "\n",
        "print(d)\n"
      ],
      "metadata": {
        "colab": {
          "base_uri": "https://localhost:8080/"
        },
        "id": "lLYiOhS_3e2f",
        "outputId": "36603996-951a-4c79-b277-30b232ad578d"
      },
      "execution_count": null,
      "outputs": [
        {
          "output_type": "stream",
          "name": "stdout",
          "text": [
            "{69: ['F'], 67: ['G', 'A'], 23: ['H', 'B'], 45: ['C'], 12: ['E']}\n"
          ]
        }
      ]
    }
  ]
}